{
  "nbformat": 4,
  "nbformat_minor": 0,
  "metadata": {
    "colab": {
      "name": "FourierTOuNN.ipynb",
      "provenance": [],
      "collapsed_sections": [],
      "mount_file_id": "1JBxyjNSxTsKDFmk_oPrmIhPnueDN-m7F",
      "authorship_tag": "ABX9TyN3igCPVJzyfvPCyRrflTre",
      "include_colab_link": true
    },
    "kernelspec": {
      "name": "python3",
      "display_name": "Python 3"
    },
    "language_info": {
      "name": "python"
    }
  },
  "cells": [
    {
      "cell_type": "markdown",
      "metadata": {
        "id": "view-in-github",
        "colab_type": "text"
      },
      "source": [
        "<a href=\"https://colab.research.google.com/github/UW-ERSL/Fourier-TOuNN/blob/main/FourierTOuNN.ipynb\" target=\"_parent\"><img src=\"https://colab.research.google.com/assets/colab-badge.svg\" alt=\"Open In Colab\"/></a>"
      ]
    },
    {
      "cell_type": "code",
      "metadata": {
        "id": "xgx2g5wK57ON"
      },
      "source": [
        "# run this first time to clone the directory \n",
        "!git clone https://github.com/UW-ERSL/Fourier-TOuNN.git\n",
        "%cd Fourier-TOuNN/"
      ],
      "execution_count": null,
      "outputs": []
    },
    {
      "cell_type": "markdown",
      "metadata": {
        "id": "VjvodDqPKJgB"
      },
      "source": [
        "### Imports"
      ]
    },
    {
      "cell_type": "code",
      "metadata": {
        "id": "Ap4snKSi669D"
      },
      "source": [
        "import numpy as np\n",
        "import time\n",
        "from TOuNN import TopologyOptimizer\n",
        "import matplotlib.pyplot as plt"
      ],
      "execution_count": null,
      "outputs": []
    },
    {
      "cell_type": "markdown",
      "metadata": {
        "id": "CSIlH-z274SZ"
      },
      "source": [
        "### Mesh "
      ]
    },
    {
      "cell_type": "code",
      "metadata": {
        "id": "rXlJJnLY7RGe"
      },
      "source": [
        "nelx = 60; # number of FE elements along X\n",
        "nely = 30; # number of FE elements along Y\n",
        "elemSize = np.array([1.0,1.0]);\n",
        "mesh = {'nelx':nelx, 'nely':nely, 'elemSize':elemSize};"
      ],
      "execution_count": null,
      "outputs": []
    },
    {
      "cell_type": "markdown",
      "metadata": {
        "id": "jGqmMjQJKuFB"
      },
      "source": [
        "### Material"
      ]
    },
    {
      "cell_type": "code",
      "metadata": {
        "id": "XUjLdr9SKUqK"
      },
      "source": [
        "matProp = {'E':1.0, 'nu':0.3}; # Structural\n",
        "matProp['K'] = 1.0; # Thermal\n",
        "matProp['penal'] = 1; # SIMP penalization constant, starting value"
      ],
      "execution_count": null,
      "outputs": []
    },
    {
      "cell_type": "markdown",
      "metadata": {
        "id": "MPbMfs-N7VZ5"
      },
      "source": [
        "### Boundary Condition"
      ]
    },
    {
      "cell_type": "code",
      "metadata": {
        "id": "-Z5LzQNg6sc5"
      },
      "source": [
        "exampleName = 'TipCantilever'\n",
        "physics = 'Structural'\n",
        "ndof = 2*(nelx+1)*(nely+1);\n",
        "force = np.zeros((ndof,1))\n",
        "dofs=np.arange(ndof);\n",
        "fixed = dofs[0:2*(nely+1):1];\n",
        "force[2*(nelx+1)*(nely+1)-2*nely+1, 0 ] = -1;\n",
        "symXAxis = {'isOn':False, 'midPt':0.5*nely};\n",
        "symYAxis = {'isOn':False, 'midPt':0.5*nelx};\n",
        "bc = {'exampleName':exampleName, 'physics':physics, \\\n",
        "      'force':force, 'fixed':fixed, 'symXAxis':symXAxis, 'symYAxis':symYAxis };\n",
        "\n",
        "# For more BCs see examples.py"
      ],
      "execution_count": null,
      "outputs": []
    },
    {
      "cell_type": "markdown",
      "metadata": {
        "id": "poYB15u97tft"
      },
      "source": [
        "### NN Settings"
      ]
    },
    {
      "cell_type": "code",
      "metadata": {
        "id": "R6Apz8SV7sVy"
      },
      "source": [
        "nnSettings = {'numLayers':1, 'numNeuronsPerLyr':20 }"
      ],
      "execution_count": null,
      "outputs": []
    },
    {
      "cell_type": "markdown",
      "metadata": {
        "id": "1iFj7G448Bk9"
      },
      "source": [
        "### Fourier Settings"
      ]
    },
    {
      "cell_type": "code",
      "metadata": {
        "id": "G7RxTb5m7xNV"
      },
      "source": [
        "fourierMinRadius, fourierMaxRadius = 4, 10;\n",
        "numTerms = 250;\n",
        "fourierMap = {'isOn':True, 'minRadius':fourierMinRadius, \\\n",
        "              'maxRadius':fourierMaxRadius, 'numTerms':numTerms};"
      ],
      "execution_count": null,
      "outputs": []
    },
    {
      "cell_type": "markdown",
      "metadata": {
        "id": "_HF5v5E-K14v"
      },
      "source": [
        "### Constraints and Projections"
      ]
    },
    {
      "cell_type": "code",
      "metadata": {
        "id": "mhjAaWFhK0Bw"
      },
      "source": [
        "densityProjection = {'isOn':True, 'sharpness':8};\n",
        "desiredVolumeFraction = 0.6;"
      ],
      "execution_count": null,
      "outputs": []
    },
    {
      "cell_type": "markdown",
      "metadata": {
        "id": "AJmPXas2CgZI"
      },
      "source": [
        "### Optimizer settings"
      ]
    },
    {
      "cell_type": "code",
      "metadata": {
        "id": "x18-MUuDCdW3"
      },
      "source": [
        "minEpochs = 150; # minimum number of iterations\n",
        "maxEpochs = 500; # Max number of iterations"
      ],
      "execution_count": null,
      "outputs": []
    },
    {
      "cell_type": "code",
      "metadata": {
        "id": "gfXnEZn18G9V"
      },
      "source": [
        "plt.close('all');\n",
        "overrideGPU = False\n",
        "start = time.perf_counter()\n",
        "topOpt = TopologyOptimizer(mesh, matProp, bc, nnSettings, fourierMap, \\\n",
        "                  desiredVolumeFraction, densityProjection, overrideGPU);\n",
        "topOpt.optimizeDesign(maxEpochs,minEpochs);\n",
        "print(\"Time taken (secs): {:.2F}\".format( time.perf_counter() - start))"
      ],
      "execution_count": null,
      "outputs": []
    }
  ]
}